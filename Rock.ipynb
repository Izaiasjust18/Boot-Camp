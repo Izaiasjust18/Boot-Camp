{
 "cells": [
  {
   "cell_type": "markdown",
   "metadata": {},
   "source": [
    "## Rock, Paper, Scissors\n"
   ]
  },
  {
   "cell_type": "code",
   "execution_count": 1,
   "metadata": {},
   "outputs": [
    {
     "name": "stdout",
     "output_type": "stream",
     "text": [
      "Computer chose: rock\n",
      "You chose: rock\n",
      "It's a tie!\n"
     ]
    }
   ],
   "source": [
    "import random\n",
    "\n",
    "# Define the options for the game\n",
    "options: list[str] = [\"rock\", \"paper\", \"scissors\"]\n",
    "\n",
    "# Computer makes a random choice\n",
    "computer_choice: str = random.choice(options)\n",
    "\n",
    "# Get the player's choice\n",
    "player_choice: str = input(\"Choose rock, paper, or scissors: \").lower()\n",
    "\n",
    "# Validate player's input\n",
    "if player_choice not in options:\n",
    "    print(\"Invalid input. Please enter 'rock', 'paper', or 'scissors'.\")\n",
    "else:\n",
    "    # Print choices\n",
    "    print(\"Computer chose:\", computer_choice)\n",
    "    print(\"You chose:\", player_choice)\n",
    "\n",
    "    # Determine the result\n",
    "    if player_choice == computer_choice:\n",
    "        print(\"It's a tie!\")\n",
    "    elif (player_choice == \"rock\" and computer_choice == \"scissors\") or \\\n",
    "         (player_choice == \"paper\" and computer_choice == \"rock\") or \\\n",
    "         (player_choice == \"scissors\" and computer_choice == \"paper\"):\n",
    "        print(\"You win!\")\n",
    "    else:\n",
    "        print(\"Computer wins!\")\n"
   ]
  }
 ],
 "metadata": {
  "kernelspec": {
   "display_name": "Python 3",
   "language": "python",
   "name": "python3"
  },
  "language_info": {
   "codemirror_mode": {
    "name": "ipython",
    "version": 3
   },
   "file_extension": ".py",
   "mimetype": "text/x-python",
   "name": "python",
   "nbconvert_exporter": "python",
   "pygments_lexer": "ipython3",
   "version": "3.12.7"
  }
 },
 "nbformat": 4,
 "nbformat_minor": 2
}
